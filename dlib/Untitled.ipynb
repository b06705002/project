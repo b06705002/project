{
 "cells": [
  {
   "cell_type": "code",
   "execution_count": 16,
   "metadata": {},
   "outputs": [
    {
     "data": {
      "text/plain": [
       "-1"
      ]
     },
     "execution_count": 16,
     "metadata": {},
     "output_type": "execute_result"
    }
   ],
   "source": [
    "\n",
    "import dlib                     #人臉識別的庫dlib\n",
    "import numpy as np              #數據處理的庫numpy\n",
    "import cv2                      #圖像處理的庫OpenCv\n",
    "\n",
    "# dlib預測器\n",
    "detector = dlib.get_frontal_face_detector()\n",
    "predictor = dlib.shape_predictor('shape_predictor_68_face_landmarks.dat')\n",
    "\n",
    "# cv2讀取圖像\n",
    "img=cv2.imread(\"f_175.jpg\")\n",
    "\n",
    "# 取灰度\n",
    "img_gray = cv2.cvtColor(img, cv2.COLOR_RGB2GRAY)\n",
    "\n",
    "# 人臉數rects\n",
    "rects = detector(img_gray, 0)\n",
    "\n",
    "for i in range(len(rects)):\n",
    "    landmarks = np.matrix([[p.x, p.y] for p in predictor(img, rects[i]).parts()])\n",
    "\n",
    "    for idx, point in enumerate(landmarks):\n",
    "        # 68點的坐標\n",
    "        pos = (point[0, 0], point[0, 1])\n",
    "\n",
    "        # 利用cv2.circle給每個特征點畫一個圈，共68個\n",
    "        cv2.circle(img, pos, 3, color=(0, 255, 255))\n",
    "\n",
    "        # 利用cv2.putText輸出1-68\n",
    "        font = cv2.FONT_HERSHEY_SIMPLEX\n",
    "        cv2.putText(img, str(idx+1), pos, font, 0.4, (0, 255, 255), 1, cv2.LINE_AA)\n",
    "        \n",
    "cv2.namedWindow(\"img\", 2)\n",
    "cv2.imshow(\"img\", img)\n",
    "cv2.waitKey(0)\n",
    "\n",
    " \n",
    " "
   ]
  }
 ],
 "metadata": {
  "kernelspec": {
   "display_name": "Python 3",
   "language": "python",
   "name": "python3"
  },
  "language_info": {
   "codemirror_mode": {
    "name": "ipython",
    "version": 3
   },
   "file_extension": ".py",
   "mimetype": "text/x-python",
   "name": "python",
   "nbconvert_exporter": "python",
   "pygments_lexer": "ipython3",
   "version": "3.7.6"
  }
 },
 "nbformat": 4,
 "nbformat_minor": 4
}
