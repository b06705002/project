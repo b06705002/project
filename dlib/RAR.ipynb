{
 "cells": [
  {
   "cell_type": "code",
   "execution_count": 1,
   "metadata": {},
   "outputs": [],
   "source": [
    "import cv2\n",
    "import dlib\n",
    "import numpy as np"
   ]
  },
  {
   "cell_type": "code",
   "execution_count": 38,
   "metadata": {},
   "outputs": [],
   "source": [
    "def getEyesCenter(p1, p2, p3, p4):\n",
    "    x1 = p1[0]\n",
    "    x2 = p2[0]\n",
    "    x3 = p3[0]\n",
    "    x4 = p4[0]\n",
    "    y1 = p1[1]\n",
    "    y2 = p2[1]\n",
    "    y3 = p3[1]\n",
    "    y4 = p4[1]\n",
    "    x = (x1+x2+x3+x4)/4\n",
    "    y = (y1+y2+y3+y4)/4\n",
    "    return x, y\n",
    "\n",
    "\n",
    "\n",
    "def getPointsDistance(x1, y1, x2, y2):\n",
    "    return np.sqrt(np.square(x1-x2)+np.square(y1-y2))\n",
    "\n",
    "\n",
    "def faceDistance(path):\n",
    "    img = cv2.imread(path)\n",
    "    img_gray = cv2.cvtColor(img, cv2.COLOR_RGB2GRAY)\n",
    "\n",
    "    detector = dlib.get_frontal_face_detector()\n",
    "    predictor = dlib.shape_predictor('shape_predictor_68_face_landmarks.dat')\n",
    "    rects = detector(img_gray, 0)\n",
    "    chinDis = 0\n",
    "    eyesDis = 0\n",
    "    \n",
    "    for i in range(len(rects)):\n",
    "        landmarks = np.matrix([[p.x, p.y] for p in predictor(img,rects[i]).parts()]) \n",
    "        landmarks = np.array(landmarks)\n",
    "        chinDis = getPointsDistance(landmarks[4][0], landmarks[4][1], landmarks[12][0], landmarks[12][1])\n",
    "        leftEyesX, leftEyesY = getEyesCenter(landmarks[37], landmarks[38], landmarks[40], landmarks[41])\n",
    "        rightEyesX, rightEyesY = getEyesCenter(landmarks[43], landmarks[44], landmarks[46], landmarks[48])\n",
    "        eyesDis = getPointsDistance(leftEyesX, leftEyesY, rightEyesX, rightEyesY)\n",
    "        \n",
    "    return chinDis, eyesDis\n",
    "\n",
    "\n",
    "def cossMulti(v1, v2):\n",
    "\n",
    "    return v1[0]*v2[1] - v1[1]*v2[0]\n",
    "\n",
    "\n",
    "def getFaceArea(polygon):\n",
    "\n",
    "    n = len(polygon)\n",
    "    if n < 3:\n",
    "        return -1\n",
    "    \n",
    "    vectors = np.zeros((n, 2))\n",
    "    for i in range(0, n):\n",
    "        vectors[i, :] = polygon[i, :] - polygon[0, :]\n",
    "\n",
    "    area = 0\n",
    "    for i in range(1, n):\n",
    "        area = area + cossMulti(vectors[i-1, :], vectors[i, :]) / 2\n",
    "\n",
    "    return area\n",
    "\n",
    "\n",
    "def faceArea(path):\n",
    "    img = cv2.imread(path)\n",
    "    img_gray = cv2.cvtColor(img, cv2.COLOR_RGB2GRAY)\n",
    "\n",
    "    detector = dlib.get_frontal_face_detector()\n",
    "    predictor = dlib.shape_predictor('shape_predictor_68_face_landmarks.dat')\n",
    "    rects = detector(img_gray, 0)\n",
    "    faceArea = 0\n",
    "    centerArea = 0\n",
    "    \n",
    "    for i in range(len(rects)):\n",
    "        landmarks = np.matrix([[p.x, p.y] for p in predictor(img,rects[i]).parts()]) \n",
    "        landmarks = np.array(landmarks)\n",
    "        facePoints = np.array([landmarks[0], landmarks[16], landmarks[12], landmarks[8], landmarks[4]])\n",
    "        faceArea = getFaceArea(facePoints)\n",
    "        centerPoints = np.array([landmarks[36], landmarks[45], landmarks[54], landmarks[48]])\n",
    "        centerArea = getFaceArea(centerPoints)\n",
    "        \n",
    "    return faceArea, centerArea"
   ]
  },
  {
   "cell_type": "code",
   "execution_count": 39,
   "metadata": {},
   "outputs": [
    {
     "data": {
      "text/plain": [
       "(27844.5, 11934.0)"
      ]
     },
     "execution_count": 39,
     "metadata": {},
     "output_type": "execute_result"
    }
   ],
   "source": [
    "faceArea(\"f_175.jpg\")"
   ]
  }
 ],
 "metadata": {
  "kernelspec": {
   "display_name": "Python 3",
   "language": "python",
   "name": "python3"
  },
  "language_info": {
   "codemirror_mode": {
    "name": "ipython",
    "version": 3
   },
   "file_extension": ".py",
   "mimetype": "text/x-python",
   "name": "python",
   "nbconvert_exporter": "python",
   "pygments_lexer": "ipython3",
   "version": "3.7.6"
  }
 },
 "nbformat": 4,
 "nbformat_minor": 4
}
